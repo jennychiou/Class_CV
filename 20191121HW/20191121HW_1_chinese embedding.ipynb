{
 "cells": [
  {
   "cell_type": "code",
   "execution_count": 9,
   "metadata": {},
   "outputs": [
    {
     "name": "stderr",
     "output_type": "stream",
     "text": [
      "D:\\Anaconda3\\lib\\site-packages\\gensim\\utils.py:1197: UserWarning: detected Windows; aliasing chunkize to chunkize_serial\n",
      "  warnings.warn(\"detected Windows; aliasing chunkize to chunkize_serial\")\n"
     ]
    }
   ],
   "source": [
    "import argparse\n",
    "import logging\n",
    "import os\n",
    "import jieba\n",
    "import math\n",
    "import requests\n",
    "import wiki as w\n",
    "from gensim.models.fasttext import FastText\n",
    "from gensim.models.word2vec import Word2Vec\n",
    "from tqdm import tqdm\n",
    "import matplotlib.pyplot as plt\n",
    "import numpy as np\n",
    "from sklearn.decomposition import PCA"
   ]
  },
  {
   "cell_type": "code",
   "execution_count": 10,
   "metadata": {},
   "outputs": [
    {
     "name": "stderr",
     "output_type": "stream",
     "text": [
      "D:\\Anaconda3\\lib\\site-packages\\smart_open\\smart_open_lib.py:398: UserWarning: This function is deprecated, use smart_open.open instead. See the migration notes for details: https://github.com/RaRe-Technologies/smart_open/blob/master/README.rst#migrating-to-the-new-open-function\n",
      "  'See the migration notes for details: %s' % _MIGRATION_NOTES_URL\n"
     ]
    }
   ],
   "source": [
    "from gensim.models import KeyedVectors\n",
    "fasttext_300d_model = 'pre-trained/cc.zh.300/cc.zh.300.vec'\n",
    "wordvectors_index = KeyedVectors.load_word2vec_format(fasttext_300d_model)"
   ]
  },
  {
   "cell_type": "code",
   "execution_count": 11,
   "metadata": {
    "scrolled": true
   },
   "outputs": [
    {
     "data": {
      "text/plain": [
       "[('你', 0.7679306864738464),\n",
       " ('他', 0.7081897258758545),\n",
       " ('想', 0.7019494771957397),\n",
       " ('她', 0.6555640697479248),\n",
       " ('要', 0.6327636241912842),\n",
       " ('真的', 0.6318696737289429),\n",
       " ('就', 0.6110949516296387),\n",
       " ('知道', 0.6072597503662109),\n",
       " ('大家', 0.5957611799240112),\n",
       " ('叫我', 0.5952475070953369)]"
      ]
     },
     "execution_count": 11,
     "metadata": {},
     "output_type": "execute_result"
    }
   ],
   "source": [
    "wordvectors_index.most_similar('我')"
   ]
  },
  {
   "cell_type": "code",
   "execution_count": 12,
   "metadata": {
    "scrolled": true
   },
   "outputs": [
    {
     "name": "stdout",
     "output_type": "stream",
     "text": [
      "[ 3.080e-02  1.008e-01  4.194e-01  2.240e-02  4.070e-02  9.610e-02\n",
      "  5.750e-02 -5.350e-02  1.923e-01  6.780e-02  1.140e-02  4.450e-02\n",
      "  4.970e-02  9.500e-03 -1.570e-02 -3.240e-02 -3.530e-02 -6.590e-02\n",
      "  3.930e-02 -1.124e-01  6.080e-02  6.700e-02  1.300e-02  1.434e-01\n",
      " -4.120e-02 -1.507e-01  8.360e-02  1.399e-01 -4.800e-03 -4.170e-02\n",
      " -1.082e-01 -5.000e-03  4.000e-04 -9.240e-02 -7.460e-02 -4.210e-02\n",
      "  7.930e-02 -1.773e-01  1.061e-01 -8.950e-02 -1.600e-02  3.010e-02\n",
      " -1.342e-01  2.680e-02 -1.501e-01  1.720e-02  2.620e-02 -1.119e-01\n",
      "  1.430e-02 -1.890e-02 -1.610e-02 -9.070e-02  2.000e-04 -3.308e-01\n",
      "  4.670e-02  8.580e-02  1.120e-01  1.470e-02  7.100e-03 -1.120e-01\n",
      " -4.690e-02  4.410e-02  1.374e-01  5.790e-02  1.272e-01  1.900e-02\n",
      "  1.115e-01 -4.380e-02  8.600e-03 -3.690e-02 -3.480e-02  1.228e-01\n",
      "  1.227e-01  1.112e-01  6.450e-02  3.270e-02  2.500e-02 -4.930e-02\n",
      "  8.550e-02 -6.020e-02 -9.100e-02  3.880e-02  1.690e-02  2.780e-02\n",
      "  6.520e-02  5.500e-02 -1.098e-01 -1.470e-01  1.560e-01 -3.289e-01\n",
      "  1.115e-01  7.520e-02 -9.700e-02 -5.630e-02  2.690e-02 -3.440e-02\n",
      "  7.310e-02  1.260e-02 -3.990e-02 -8.470e-02 -2.831e-01 -1.659e-01\n",
      "  6.040e-02  2.331e-01 -1.568e-01  9.600e-03 -2.510e-02 -7.380e-02\n",
      " -1.160e-01 -7.600e-03 -1.030e-02  2.040e-01  1.716e-01  1.520e-02\n",
      " -5.670e-02  2.290e-02  1.716e-01  2.520e-02 -7.900e-02  5.960e-02\n",
      "  2.359e-01  1.960e-02  1.000e-03  3.140e-02 -1.310e-02  6.030e-02\n",
      " -1.680e-02  7.160e-02  4.490e-02 -1.471e-01  4.000e-04 -4.250e-02\n",
      " -3.530e-02 -5.910e-02 -2.190e-02  9.900e-03  2.067e-01 -9.030e-02\n",
      " -6.020e-02  2.170e-02 -1.490e-02  1.361e-01 -1.749e-01  2.330e-02\n",
      "  5.110e-02 -5.310e-02  1.406e-01 -6.600e-03 -2.100e-03 -1.155e-01\n",
      "  1.702e-01  3.890e-02  3.020e-02  1.132e-01  7.450e-02 -2.140e-02\n",
      "  5.630e-02  2.810e-02 -3.800e-03 -4.350e-02  1.548e-01 -6.520e-02\n",
      "  6.060e-02  5.900e-02 -4.400e-02 -8.500e-03  1.950e-02  7.940e-02\n",
      "  1.300e-02  1.414e-01  9.690e-02  7.490e-02 -1.249e-01  1.498e-01\n",
      " -9.950e-02 -2.530e-02  2.080e-02  4.300e-02 -3.140e-02 -8.150e-02\n",
      "  3.820e-02 -2.242e-01 -3.080e-02  8.130e-02 -3.800e-03  4.540e-02\n",
      "  7.580e-02  6.230e-02  2.690e-02  3.122e-01 -1.950e-02  3.190e-02\n",
      "  2.670e-02  3.210e-02  1.710e-02 -4.370e-02  4.320e-02  1.357e-01\n",
      "  1.169e-01  7.180e-02  1.390e-02  2.910e-02 -3.730e-02  7.900e-03\n",
      " -2.280e-02  2.640e-02  1.611e-01 -6.830e-02  3.900e-02 -5.760e-02\n",
      " -3.260e-02  1.364e-01 -2.990e-02  6.710e-02  4.230e-02 -6.890e-02\n",
      " -4.540e-02 -1.358e-01 -6.200e-02  8.740e-02 -2.710e-02 -1.040e-01\n",
      "  1.010e-02 -1.542e-01 -9.660e-02 -5.950e-02 -5.250e-02  3.290e-02\n",
      "  5.130e-02  2.412e-01 -1.690e-02  6.142e-01  8.680e-02  1.000e-02\n",
      "  3.430e-02  2.630e-02  5.180e-02 -5.200e-03 -4.390e-02  2.200e-03\n",
      "  4.600e-03 -4.100e-03  5.460e-02  4.180e-02 -1.046e-01 -1.510e-01\n",
      " -9.210e-02  7.100e-02  2.960e-02 -3.851e-01 -1.451e-01 -1.830e-02\n",
      "  3.980e-02  9.200e-03 -5.550e-02  4.190e-02  7.100e-03  4.300e-02\n",
      "  2.600e-02  4.200e-03  1.003e-01 -1.014e-01  4.800e-02 -1.420e-02\n",
      "  4.890e-02  7.140e-02  9.000e-04 -5.930e-02  1.149e-01  5.500e-03\n",
      "  3.570e-02 -3.830e-02 -1.022e-01 -4.850e-02  6.870e-02 -4.540e-02\n",
      " -6.050e-02  1.573e-01  2.200e-03  1.341e-01 -3.565e-01 -3.400e-03\n",
      " -1.238e-01 -4.060e-02  5.500e-02  9.800e-03 -3.670e-02  2.060e-02\n",
      " -1.130e-02 -9.900e-03  2.730e-02  5.100e-03 -2.100e-03 -9.990e-02\n",
      "  3.290e-02 -5.310e-02  1.360e-02  3.190e-02  5.680e-02  1.100e-01]\n",
      "The Length of Vector: 300\n"
     ]
    }
   ],
   "source": [
    "vec = wordvectors_index['我']\n",
    "print(vec)\n",
    "print('The Length of Vector:',len(vec))"
   ]
  },
  {
   "cell_type": "code",
   "execution_count": 5,
   "metadata": {},
   "outputs": [
    {
     "data": {
      "text/html": [
       "<div>\n",
       "<style scoped>\n",
       "    .dataframe tbody tr th:only-of-type {\n",
       "        vertical-align: middle;\n",
       "    }\n",
       "\n",
       "    .dataframe tbody tr th {\n",
       "        vertical-align: top;\n",
       "    }\n",
       "\n",
       "    .dataframe thead th {\n",
       "        text-align: right;\n",
       "    }\n",
       "</style>\n",
       "<table border=\"1\" class=\"dataframe\">\n",
       "  <thead>\n",
       "    <tr style=\"text-align: right;\">\n",
       "      <th></th>\n",
       "      <th>id</th>\n",
       "      <th>url</th>\n",
       "      <th>title</th>\n",
       "      <th>text</th>\n",
       "    </tr>\n",
       "  </thead>\n",
       "  <tbody>\n",
       "    <tr>\n",
       "      <th>0</th>\n",
       "      <td>13</td>\n",
       "      <td>https://zh.wikipedia.org/wiki?curid=13</td>\n",
       "      <td>數學</td>\n",
       "      <td>數學是利用符號語言研究數量、結構、變化以及空間等概念的一門學科，從某種角度看屬於形式科學的一...</td>\n",
       "    </tr>\n",
       "    <tr>\n",
       "      <th>1</th>\n",
       "      <td>18</td>\n",
       "      <td>https://zh.wikipedia.org/wiki?curid=18</td>\n",
       "      <td>哲學</td>\n",
       "      <td>哲學是研究普遍的、根本的問題的學科，包括存在、知識、價值、理智、心靈、語言等領域。哲學與其他...</td>\n",
       "    </tr>\n",
       "    <tr>\n",
       "      <th>2</th>\n",
       "      <td>21</td>\n",
       "      <td>https://zh.wikipedia.org/wiki?curid=21</td>\n",
       "      <td>文學</td>\n",
       "      <td>文學在最廣泛的意義上，是任何單一的書面作品。更嚴格地說，文學寫作被認為是一種藝術形式，或被認...</td>\n",
       "    </tr>\n",
       "    <tr>\n",
       "      <th>3</th>\n",
       "      <td>22</td>\n",
       "      <td>https://zh.wikipedia.org/wiki?curid=22</td>\n",
       "      <td>歷史</td>\n",
       "      <td>歷史是指人類社會過去的事件和行動，以及對這些事件行為有系統的記錄、詮釋和研究。歷史可提供今人...</td>\n",
       "    </tr>\n",
       "    <tr>\n",
       "      <th>4</th>\n",
       "      <td>25</td>\n",
       "      <td>https://zh.wikipedia.org/wiki?curid=25</td>\n",
       "      <td>電腦科學</td>\n",
       "      <td>電腦科學是系統性研究資訊與計算的理論基礎以及它們在電腦系統中如何與應用的實用技術的學科。 它...</td>\n",
       "    </tr>\n",
       "  </tbody>\n",
       "</table>\n",
       "</div>"
      ],
      "text/plain": [
       "   id                                     url title  \\\n",
       "0  13  https://zh.wikipedia.org/wiki?curid=13    數學   \n",
       "1  18  https://zh.wikipedia.org/wiki?curid=18    哲學   \n",
       "2  21  https://zh.wikipedia.org/wiki?curid=21    文學   \n",
       "3  22  https://zh.wikipedia.org/wiki?curid=22    歷史   \n",
       "4  25  https://zh.wikipedia.org/wiki?curid=25  電腦科學   \n",
       "\n",
       "                                                text  \n",
       "0  數學是利用符號語言研究數量、結構、變化以及空間等概念的一門學科，從某種角度看屬於形式科學的一...  \n",
       "1  哲學是研究普遍的、根本的問題的學科，包括存在、知識、價值、理智、心靈、語言等領域。哲學與其他...  \n",
       "2  文學在最廣泛的意義上，是任何單一的書面作品。更嚴格地說，文學寫作被認為是一種藝術形式，或被認...  \n",
       "3  歷史是指人類社會過去的事件和行動，以及對這些事件行為有系統的記錄、詮釋和研究。歷史可提供今人...  \n",
       "4  電腦科學是系統性研究資訊與計算的理論基礎以及它們在電腦系統中如何與應用的實用技術的學科。 它...  "
      ]
     },
     "execution_count": 5,
     "metadata": {},
     "output_type": "execute_result"
    }
   ],
   "source": [
    "import pandas as pd\n",
    "df = pd.read_csv('wikidata.csv')\n",
    "df"
   ]
  },
  {
   "cell_type": "code",
   "execution_count": 6,
   "metadata": {},
   "outputs": [
    {
     "data": {
      "text/plain": [
       "'數學是利用符號語言研究數量、結構、變化以及空間等概念的一門學科，從某種角度看屬於形式科學的一種。數學透過抽象化和邏輯推理的使用，由計數、計算、量度和對物體形狀及運動的觀察而產生。數學家們拓展這些概念，為了公式化新的猜想以及從選定的公理及定義中建立起嚴謹推導出的定理。'"
      ]
     },
     "execution_count": 6,
     "metadata": {},
     "output_type": "execute_result"
    }
   ],
   "source": [
    "df['text'][0]"
   ]
  },
  {
   "cell_type": "code",
   "execution_count": 7,
   "metadata": {},
   "outputs": [],
   "source": [
    "import jieba\n",
    "import numpy as np\n",
    "jieba.set_dictionary('dict.txt.big')"
   ]
  },
  {
   "cell_type": "code",
   "execution_count": 13,
   "metadata": {},
   "outputs": [],
   "source": [
    "def stopwordslist(filepath):  \n",
    "    stopwords = [line.strip() for line in open(filepath, 'r', encoding='utf-8').readlines()]  \n",
    "    return stopwords  "
   ]
  },
  {
   "cell_type": "code",
   "execution_count": 53,
   "metadata": {},
   "outputs": [],
   "source": [
    "def seg_sentence(sentence):  \n",
    "    sentence_seged = jieba.cut(sentence.strip())\n",
    "    stopwords = stopwordslist('stops.txt')  # 加載停用詞的路徑  \n",
    "    outstr = '' \n",
    "    for word in sentence_seged:  \n",
    "        if word not in stopwords:  \n",
    "            if word != '\\t':  \n",
    "                outstr += word  \n",
    "                outstr += \" \"   #再次組合成【帶空格】的串\n",
    "    return outstr"
   ]
  },
  {
   "cell_type": "code",
   "execution_count": 55,
   "metadata": {},
   "outputs": [],
   "source": [
    "inputs = open('input.txt', 'r', encoding = 'utf-8')\n",
    "outputs = open('output.txt', 'w')\n",
    "\n",
    "for line in inputs:  \n",
    "    line_seg = seg_sentence(line)  # 這裏的返回值是字符串\n",
    "    outputs.write(line_seg + '\\n')\n",
    "\n",
    "outputs.close()  \n",
    "inputs.close()  "
   ]
  },
  {
   "cell_type": "code",
   "execution_count": 91,
   "metadata": {},
   "outputs": [
    {
     "name": "stdout",
     "output_type": "stream",
     "text": [
      "['來到 北京 清華大學', '來到 網易 杭研 大廈', '小明 碩士 畢業 中國科學院 計算所 後 日本京都大學 深造']\n",
      "['來到', '北京', '清華大學']\n"
     ]
    }
   ],
   "source": [
    "f = open(r'output.txt')\n",
    "text = []\n",
    "for line in f:\n",
    "    line = line.strip('\\n').strip(' ')\n",
    "    text.append(line)\n",
    "print(text)\n",
    "print(text[0].split(' '))"
   ]
  },
  {
   "cell_type": "code",
   "execution_count": 96,
   "metadata": {},
   "outputs": [
    {
     "data": {
      "text/html": [
       "<div>\n",
       "<style scoped>\n",
       "    .dataframe tbody tr th:only-of-type {\n",
       "        vertical-align: middle;\n",
       "    }\n",
       "\n",
       "    .dataframe tbody tr th {\n",
       "        vertical-align: top;\n",
       "    }\n",
       "\n",
       "    .dataframe thead th {\n",
       "        text-align: right;\n",
       "    }\n",
       "</style>\n",
       "<table border=\"1\" class=\"dataframe\">\n",
       "  <thead>\n",
       "    <tr style=\"text-align: right;\">\n",
       "      <th></th>\n",
       "      <th>0</th>\n",
       "      <th>1</th>\n",
       "      <th>2</th>\n",
       "      <th>3</th>\n",
       "      <th>4</th>\n",
       "      <th>5</th>\n",
       "      <th>6</th>\n",
       "      <th>7</th>\n",
       "    </tr>\n",
       "  </thead>\n",
       "  <tbody>\n",
       "    <tr>\n",
       "      <th>0</th>\n",
       "      <td>來到</td>\n",
       "      <td>北京</td>\n",
       "      <td>清華大學</td>\n",
       "      <td>None</td>\n",
       "      <td>None</td>\n",
       "      <td>None</td>\n",
       "      <td>None</td>\n",
       "      <td>None</td>\n",
       "    </tr>\n",
       "    <tr>\n",
       "      <th>1</th>\n",
       "      <td>來到</td>\n",
       "      <td>網易</td>\n",
       "      <td>杭研</td>\n",
       "      <td>大廈</td>\n",
       "      <td>None</td>\n",
       "      <td>None</td>\n",
       "      <td>None</td>\n",
       "      <td>None</td>\n",
       "    </tr>\n",
       "    <tr>\n",
       "      <th>2</th>\n",
       "      <td>小明</td>\n",
       "      <td>碩士</td>\n",
       "      <td>畢業</td>\n",
       "      <td>中國科學院</td>\n",
       "      <td>計算所</td>\n",
       "      <td>後</td>\n",
       "      <td>日本京都大學</td>\n",
       "      <td>深造</td>\n",
       "    </tr>\n",
       "  </tbody>\n",
       "</table>\n",
       "</div>"
      ],
      "text/plain": [
       "    0   1     2      3     4     5       6     7\n",
       "0  來到  北京  清華大學   None  None  None    None  None\n",
       "1  來到  網易    杭研     大廈  None  None    None  None\n",
       "2  小明  碩士    畢業  中國科學院   計算所     後  日本京都大學    深造"
      ]
     },
     "execution_count": 96,
     "metadata": {},
     "output_type": "execute_result"
    }
   ],
   "source": [
    "import pandas as pd\n",
    "final = []\n",
    "for i in range(len(text)):\n",
    "    x = text[i].split(' ')\n",
    "    final.append(x)\n",
    "    df_new = pd.DataFrame(final)\n",
    "df_new"
   ]
  },
  {
   "cell_type": "code",
   "execution_count": 102,
   "metadata": {},
   "outputs": [],
   "source": [
    "df_new.iat[0,3]"
   ]
  },
  {
   "cell_type": "code",
   "execution_count": 106,
   "metadata": {},
   "outputs": [
    {
     "data": {
      "text/plain": [
       "3"
      ]
     },
     "execution_count": 106,
     "metadata": {},
     "output_type": "execute_result"
    }
   ],
   "source": [
    "# 第一列元素個數\n",
    "df_new.count(axis=1)[0]"
   ]
  },
  {
   "cell_type": "code",
   "execution_count": 123,
   "metadata": {},
   "outputs": [
    {
     "data": {
      "text/plain": [
       "8"
      ]
     },
     "execution_count": 123,
     "metadata": {},
     "output_type": "execute_result"
    }
   ],
   "source": [
    "df_new.count(axis=1)[2]"
   ]
  },
  {
   "cell_type": "code",
   "execution_count": 135,
   "metadata": {},
   "outputs": [
    {
     "name": "stdout",
     "output_type": "stream",
     "text": [
      "Word: 來到\n",
      "[('們到', 0.680351197719574), ('離開', 0.6726597547531128), ('来到', 0.6725727915763855), ('會到', 0.64908766746521), ('帶到', 0.6413955688476562), ('到達', 0.6270354986190796), ('抵達', 0.6244625449180603), ('拜訪', 0.6237394213676453), ('見到', 0.623458981513977), ('剛到', 0.6193416118621826)] \n",
      "\n",
      "Word: 北京\n",
      "[('北京市', 0.695327639579773), ('上海', 0.6890406012535095), ('天津', 0.6707611680030823), ('海淀', 0.6531842947006226), ('丰台', 0.6383175849914551), ('南京', 0.634671688079834), ('深圳', 0.6265233159065247), ('广州', 0.6191778779029846), ('瑞志', 0.6073142290115356), ('成都', 0.6062750816345215)] \n",
      "\n",
      "Word: 清華大學\n",
      "[('國立清華大學', 0.5424829721450806), ('清華', 0.5316276550292969), ('語言所', 0.5306745767593384), ('大學醫學部', 0.5273380279541016), ('本校與', 0.5210415720939636), ('臺北校區', 0.5204195976257324), ('大學教員', 0.5161640644073486), ('學新竹', 0.5138156414031982), ('學賴', 0.5105436444282532), ('學之', 0.5099607110023499)] \n",
      "\n",
      "Word: 來到\n",
      "[('們到', 0.680351197719574), ('離開', 0.6726597547531128), ('来到', 0.6725727915763855), ('會到', 0.64908766746521), ('帶到', 0.6413955688476562), ('到達', 0.6270354986190796), ('抵達', 0.6244625449180603), ('拜訪', 0.6237394213676453), ('見到', 0.623458981513977), ('剛到', 0.6193416118621826)] \n",
      "\n",
      "Word: 網易\n",
      "[('聞客戶端', 0.5876361131668091), ('騰訊網', 0.5696948170661926), ('科技訊', 0.5581492781639099), ('騰訊', 0.5550828576087952), ('東方網', 0.5459731221199036), ('張朝陽', 0.5439282655715942), ('曹國偉', 0.538353443145752), ('i黑馬', 0.5373672246932983), ('央視網', 0.5314080119132996), ('蔡文勝', 0.5296161770820618)] \n",
      "\n",
      "Word: 杭研\n",
      "[('易盾', 0.711364209651947), ('沃趣', 0.6763855218887329), ('邱跃鹏', 0.6757369637489319), ('舜飞', 0.6741166114807129), ('云信', 0.67271888256073), ('陈本峰', 0.6661608219146729), ('商询', 0.6632800102233887), ('鹅厂', 0.6563276052474976), ('季昕华', 0.6546007394790649), ('听云', 0.6530683040618896)] \n",
      "\n",
      "Word: 大廈\n",
      "[('廈', 0.7920844554901123), ('大樓', 0.679903507232666), ('廈及', 0.6486297249794006), ('廈等', 0.6374667286872864), ('盈置', 0.6272530555725098), ('飛通', 0.6174845695495605), ('廈和', 0.6097941398620605), ('廈後', 0.6090506911277771), ('廈內', 0.6077703237533569), ('宿NS', 0.6075724959373474)] \n",
      "\n",
      "Word: 小明\n",
      "[('小华', 0.6519417762756348), ('小亮', 0.6270813941955566), ('小军', 0.6093065142631531), ('小刚', 0.5983800888061523), ('小丽', 0.5637282729148865), ('明爸', 0.5430482625961304), ('情景二', 0.5329578518867493), ('小芳', 0.5278083086013794), ('小明家', 0.496097594499588), ('小杰', 0.4890586733818054)] \n",
      "\n",
      "Word: 碩士\n",
      "[('碩士學', 0.7465630769729614), ('學位', 0.6896508932113647), ('哲學博士', 0.6655946969985962), ('碩士班', 0.6558831334114075), ('博士學', 0.6482836604118347), ('雙碩士', 0.6465559601783752), ('碩士畢業', 0.6463962197303772), ('雙學士', 0.6345175504684448), ('學系', 0.634415864944458), ('學士', 0.6317906379699707)] \n",
      "\n",
      "Word: 畢業\n",
      "[('學畢業', 0.7099490761756897), ('大學畢業', 0.7092317342758179), ('畢業生', 0.6711447238922119), ('剛從學', 0.6586110591888428), ('毕业', 0.6297016739845276), ('我畢業', 0.6236075162887573), ('中學畢業', 0.6210829019546509), ('從畢業', 0.6187918186187744), ('從入學', 0.6176089644432068), ('大學讀', 0.6081340909004211)] \n",
      "\n",
      "Word: 中國科學院\n",
      "[('马街乡', 0.0), ('區徵信社', 0.0), ('M化', 0.0), ('微博给', 0.0), ('2016百万', 0.0), ('X宽', 0.0), ('謂萬變', 0.0), ('種落', 0.0), ('天絲入', 0.0), ('功課好', 0.0)] \n",
      "\n",
      "Word: 計算所\n",
      "[('马街乡', 0.0), ('區徵信社', 0.0), ('M化', 0.0), ('微博给', 0.0), ('2016百万', 0.0), ('X宽', 0.0), ('謂萬變', 0.0), ('種落', 0.0), ('天絲入', 0.0), ('功課好', 0.0)] \n",
      "\n",
      "Word: 後\n",
      "[('之後', 0.8636327385902405), ('以後', 0.7380192279815674), ('后', 0.7275388836860657), ('隨即', 0.715072512626648), ('後還', 0.6953732967376709), ('後將', 0.6875186562538147), ('後會', 0.6811140179634094), ('過後', 0.6801283359527588), ('並', 0.6712456345558167), ('開始', 0.6707596778869629)] \n",
      "\n",
      "Word: 日本京都大學\n",
      "[('马街乡', 0.0), ('區徵信社', 0.0), ('M化', 0.0), ('微博给', 0.0), ('2016百万', 0.0), ('X宽', 0.0), ('謂萬變', 0.0), ('種落', 0.0), ('天絲入', 0.0), ('功課好', 0.0)] \n",
      "\n",
      "Word: 深造\n",
      "[('进修', 0.6674454212188721), ('升造', 0.6207159757614136), ('進修', 0.6014084815979004), ('攻读', 0.5910628437995911), ('读博', 0.5838335752487183), ('读研', 0.568256676197052), ('求学', 0.5608309507369995), ('求學', 0.5483633875846863), ('攻讀', 0.5272366404533386), ('升读', 0.5261021256446838)] \n",
      "\n"
     ]
    }
   ],
   "source": [
    "for a in range(0,3):\n",
    "    for i in range(df_new.count(axis=1)[a]):\n",
    "        getword = df_new.iat[a,i]\n",
    "        print('Word:',getword)\n",
    "        sim = wordvectors_index.most_similar(getword)\n",
    "        print(sim,'\\n')\n",
    "        vec = wordvectors_index[getword]\n",
    "        #print(vec)"
   ]
  },
  {
   "cell_type": "code",
   "execution_count": null,
   "metadata": {},
   "outputs": [],
   "source": []
  }
 ],
 "metadata": {
  "kernelspec": {
   "display_name": "Python 3",
   "language": "python",
   "name": "python3"
  },
  "language_info": {
   "codemirror_mode": {
    "name": "ipython",
    "version": 3
   },
   "file_extension": ".py",
   "mimetype": "text/x-python",
   "name": "python",
   "nbconvert_exporter": "python",
   "pygments_lexer": "ipython3",
   "version": "3.6.5"
  }
 },
 "nbformat": 4,
 "nbformat_minor": 2
}
