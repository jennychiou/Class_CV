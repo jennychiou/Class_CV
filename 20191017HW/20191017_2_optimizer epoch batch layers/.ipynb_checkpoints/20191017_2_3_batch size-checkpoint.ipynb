{
 "cells": [
  {
   "cell_type": "code",
   "execution_count": 1,
   "metadata": {},
   "outputs": [
    {
     "name": "stderr",
     "output_type": "stream",
     "text": [
      "D:\\Anaconda3\\lib\\site-packages\\h5py\\__init__.py:36: FutureWarning: Conversion of the second argument of issubdtype from `float` to `np.floating` is deprecated. In future, it will be treated as `np.float64 == np.dtype(float).type`.\n",
      "  from ._conv import register_converters as _register_converters\n",
      "Using TensorFlow backend.\n"
     ]
    }
   ],
   "source": [
    "from keras.datasets import mnist\n",
    "from keras import models\n",
    "from keras import layers\n",
    "import matplotlib.pyplot as plt\n",
    "%matplotlib inline\n",
    "(train_images, train_labels), (test_images, test_labels) = mnist.load_data()"
   ]
  },
  {
   "cell_type": "code",
   "execution_count": 2,
   "metadata": {},
   "outputs": [],
   "source": [
    "train_images = train_images.reshape((60000, 28 * 28))\n",
    "train_images = train_images.astype('float32') / 255\n",
    "\n",
    "test_images = test_images.reshape((10000, 28 * 28))\n",
    "test_images = test_images.astype('float32') / 255\n",
    "\n",
    "from keras.utils import to_categorical\n",
    "\n",
    "train_labels = to_categorical(train_labels)\n",
    "test_labels = to_categorical(test_labels)"
   ]
  },
  {
   "cell_type": "code",
   "execution_count": 3,
   "metadata": {},
   "outputs": [],
   "source": [
    "def show_train_history(train_history, train, validation):  \n",
    "    plt.plot(train_history.history[train], linewidth=3)  \n",
    "    plt.plot(train_history.history[validation], linewidth=3)  \n",
    "    plt.title('Train History')  \n",
    "    plt.ylabel(train)  \n",
    "    plt.xlabel('Epoch')  \n",
    "    plt.legend(['Train', 'Validation'], loc='best')  \n",
    "    plt.show()  "
   ]
  },
  {
   "cell_type": "code",
   "execution_count": 8,
   "metadata": {
    "scrolled": true
   },
   "outputs": [
    {
     "name": "stdout",
     "output_type": "stream",
     "text": [
      "Train on 48000 samples, validate on 12000 samples\n",
      "Epoch 1/20\n",
      "48000/48000 [==============================] - 5s 99us/step - loss: 0.8967 - acc: 0.7944 - val_loss: 0.4691 - val_acc: 0.8896\n",
      "Epoch 2/20\n",
      "48000/48000 [==============================] - 4s 83us/step - loss: 0.4344 - acc: 0.8871 - val_loss: 0.3619 - val_acc: 0.9059\n",
      "Epoch 3/20\n",
      "48000/48000 [==============================] - 4s 80us/step - loss: 0.3622 - acc: 0.9016 - val_loss: 0.3206 - val_acc: 0.9140\n",
      "Epoch 4/20\n",
      "48000/48000 [==============================] - 4s 83us/step - loss: 0.3260 - acc: 0.9095 - val_loss: 0.2955 - val_acc: 0.9186\n",
      "Epoch 5/20\n",
      "48000/48000 [==============================] - 4s 80us/step - loss: 0.3019 - acc: 0.9156 - val_loss: 0.2776 - val_acc: 0.9244\n",
      "Epoch 6/20\n",
      "48000/48000 [==============================] - 4s 83us/step - loss: 0.2832 - acc: 0.9213 - val_loss: 0.2633 - val_acc: 0.9277\n",
      "Epoch 7/20\n",
      "48000/48000 [==============================] - 4s 83us/step - loss: 0.2680 - acc: 0.9251 - val_loss: 0.2520 - val_acc: 0.9311\n",
      "Epoch 8/20\n",
      "48000/48000 [==============================] - 4s 83us/step - loss: 0.2551 - acc: 0.9286 - val_loss: 0.2409 - val_acc: 0.9332\n",
      "Epoch 9/20\n",
      "48000/48000 [==============================] - 4s 84us/step - loss: 0.2436 - acc: 0.9321 - val_loss: 0.2317 - val_acc: 0.9363\n",
      "Epoch 10/20\n",
      "48000/48000 [==============================] - 4s 82us/step - loss: 0.2335 - acc: 0.9355 - val_loss: 0.2244 - val_acc: 0.9382\n",
      "Epoch 11/20\n",
      "48000/48000 [==============================] - 4s 81us/step - loss: 0.2244 - acc: 0.9382 - val_loss: 0.2158 - val_acc: 0.9397\n",
      "Epoch 12/20\n",
      "48000/48000 [==============================] - 4s 81us/step - loss: 0.2158 - acc: 0.9401 - val_loss: 0.2096 - val_acc: 0.9431\n",
      "Epoch 13/20\n",
      "48000/48000 [==============================] - 4s 83us/step - loss: 0.2078 - acc: 0.9423 - val_loss: 0.2031 - val_acc: 0.9440\n",
      "Epoch 14/20\n",
      "48000/48000 [==============================] - 4s 81us/step - loss: 0.2008 - acc: 0.9436 - val_loss: 0.1978 - val_acc: 0.9457\n",
      "Epoch 15/20\n",
      "48000/48000 [==============================] - 4s 78us/step - loss: 0.1940 - acc: 0.9461 - val_loss: 0.1920 - val_acc: 0.9479\n",
      "Epoch 16/20\n",
      "48000/48000 [==============================] - 4s 80us/step - loss: 0.1876 - acc: 0.9477 - val_loss: 0.1864 - val_acc: 0.9497\n",
      "Epoch 17/20\n",
      "48000/48000 [==============================] - 4s 87us/step - loss: 0.1816 - acc: 0.9496 - val_loss: 0.1829 - val_acc: 0.9495\n",
      "Epoch 18/20\n",
      "48000/48000 [==============================] - 4s 94us/step - loss: 0.1760 - acc: 0.9508 - val_loss: 0.1777 - val_acc: 0.9514\n",
      "Epoch 19/20\n",
      "48000/48000 [==============================] - 5s 94us/step - loss: 0.1707 - acc: 0.9529 - val_loss: 0.1731 - val_acc: 0.9531\n",
      "Epoch 20/20\n",
      "48000/48000 [==============================] - 4s 85us/step - loss: 0.1659 - acc: 0.9539 - val_loss: 0.1697 - val_acc: 0.9540\n",
      "10000/10000 [==============================] - 1s 62us/step\n",
      "test_loss: 0.16534942554980517\n",
      "test_acc: 0.9529\n"
     ]
    }
   ],
   "source": [
    "#batch_size=5\n",
    "network = models.Sequential()\n",
    "network.add(layers.Dense(512, activation='relu', input_shape=(28 * 28,)))\n",
    "network.add(layers.Dense(10, activation='softmax'))\n",
    "network.compile(optimizer='sgd', loss='categorical_crossentropy', metrics=['accuracy'])\n",
    "train_history_5 = network.fit(train_images, train_labels, validation_split=0.2, epochs=20, batch_size=64)\n",
    "test_loss, test_acc = network.evaluate(test_images, test_labels)\n",
    "print('test_loss:', test_loss)\n",
    "print('test_acc:', test_acc)"
   ]
  },
  {
   "cell_type": "code",
   "execution_count": 13,
   "metadata": {},
   "outputs": [
    {
     "name": "stdout",
     "output_type": "stream",
     "text": [
      "60000/60000 [==============================] - 4s 59us/step\n",
      "\n",
      "[Info] Accuracy of testing data = 95.5%\n"
     ]
    },
    {
     "data": {
      "image/png": "[encoded data removed]",
      "text/plain": [
       "<Figure size 432x288 with 1 Axes>"
      ]
     },
     "metadata": {},
     "output_type": "display_data"
    }
   ],
   "source": [
    "plt.plot(train_history_5.history['acc'], linewidth=3)\n",
    "plt.plot(train_history_5.history['val_acc'], linewidth=3)\n",
    "plt.title('Train History')\n",
    "plt.xlabel('Epoch')\n",
    "plt.ylabel('Accuracy')\n",
    "plt.xticks([0,1,2,3,4,5,6,7,8,9,10,11,12,13,14,15,16,17,18,19], ['1','2','3','4','5','6','7','8','9','10','11','12','13','14','15','16','17','18','19','20'])\n",
    "plt.legend(['Train', 'Validation'], loc='best')\n",
    "plt.grid(True)\n",
    "plt.savefig(\"batch_size_5.jpg\")\n",
    "\n",
    "scores_5 = network.evaluate(train_images, train_labels)\n",
    "print()\n",
    "print(\"[Info] Accuracy of testing data = {:2.1f}%\".format(scores_5[1]*100.0)) "
   ]
  },
  {
   "cell_type": "code",
   "execution_count": null,
   "metadata": {},
   "outputs": [],
   "source": []
  }
 ],
 "metadata": {
  "kernelspec": {
   "display_name": "Python 3",
   "language": "python",
   "name": "python3"
  },
  "language_info": {
   "codemirror_mode": {
    "name": "ipython",
    "version": 3
   },
   "file_extension": ".py",
   "mimetype": "text/x-python",
   "name": "python",
   "nbconvert_exporter": "python",
   "pygments_lexer": "ipython3",
   "version": "3.6.5"
  }
 },
 "nbformat": 4,
 "nbformat_minor": 2
}
